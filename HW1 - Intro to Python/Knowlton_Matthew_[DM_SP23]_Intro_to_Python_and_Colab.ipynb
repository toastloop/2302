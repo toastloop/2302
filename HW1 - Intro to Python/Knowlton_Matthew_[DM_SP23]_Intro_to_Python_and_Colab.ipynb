{
 "cells": [
  {
   "cell_type": "markdown",
   "metadata": {
    "id": "kR0oZSAJ6ATJ"
   },
   "source": [
    "## **Before you start**\n",
    "\n",
    "1. Make a copy of this Colab by clicking on File > Save a Copy in Drive\n",
    "2. Input your student id, first name, and last name\n"
   ]
  },
  {
   "cell_type": "code",
   "execution_count": 1,
   "metadata": {
    "id": "sOqmVV6qpac2"
   },
   "outputs": [],
   "source": [
    "#@title  { run: \"auto\", display-mode: \"form\" }\n",
    "student_id = \"80745066\" #@param {type:\"string\"}\n",
    "first_name = \"Matthew\" #@param {type:\"string\"}\n",
    "last_name = \"Knowlton\" #@param {type:\"string\"}"
   ]
  },
  {
   "cell_type": "markdown",
   "metadata": {
    "id": "oyl3nc7E7b8W"
   },
   "source": [
    "**Authors:** Olac Fuentes, Diego Aguirre, and Daniel Mejia\n",
    "\n",
    "**Last Modified:** January 19, 2023"
   ]
  },
  {
   "cell_type": "markdown",
   "metadata": {
    "id": "YHI3vyhv5p85"
   },
   "source": [
    "## **Introduction to Colab and Python**"
   ]
  },
  {
   "cell_type": "markdown",
   "metadata": {
    "id": "F8YVA_634OFk"
   },
   "source": [
    "Welcome to this Colab where you will get a quick introduction to the Python programming language and the environment used for the course's exercises: Colab.\n",
    "\n",
    "Colab is a Python development environment that runs in the browser using Google Cloud.\n",
    "\n",
    "For example, to run the code below, just hover the mouse over [ ] and press the play button to the upper left. Or press shift-enter to execute."
   ]
  },
  {
   "cell_type": "code",
   "execution_count": 3,
   "metadata": {
    "colab": {
     "base_uri": "https://localhost:8080/"
    },
    "id": "X9uIpOS2zx7k",
    "outputId": "8cd2a4be-f3b6-4a41-927c-0f33b26b943f"
   },
   "outputs": [
    {
     "name": "stdout",
     "output_type": "stream",
     "text": [
      "Hello World\n",
      "Data Structures\n",
      "1 2 3 4 5 6 7 8 9 10\n",
      "CS 2302\n",
      "0 1\n",
      "a is equal to 0 and b is equal to 1\n"
     ]
    }
   ],
   "source": [
    "# print behaves like System.out.println in Java\n",
    "\n",
    "print(\"Hello World\")  \n",
    "\n",
    "print('Data','Structures')\n",
    "print(1,2,3,4,5,6,7,8,9,10)\n",
    "print('CS',2302)\n",
    "\n",
    "a = 0\n",
    "b = 1\n",
    "print(a,b)\n",
    "print('a is equal to',a,'and b is equal to',b)"
   ]
  },
  {
   "cell_type": "markdown",
   "metadata": {
    "id": "55kVKBYTCJzi"
   },
   "source": [
    "# Introduction to Python \n",
    "\n",
    "For many of you, this may be your very first time programming in this language, and this lesson is designed to help you get started.\n",
    "\n",
    "![alt text](https://media.giphy.com/media/fnQ3DS2bSrOdxNIXOC/giphy.gif)\n",
    "\n",
    "\n"
   ]
  },
  {
   "cell_type": "markdown",
   "metadata": {
    "id": "nJ61R2fpCdPZ"
   },
   "source": [
    "## Intro to Jupyter Notebooks and Google Colabs\n",
    "\n",
    "Typically, to run Python code, you have to run it on your computer, using either the command line or a specific type of program called an IDE (integrated development environment). \n",
    "\n",
    "Instead, right now we're using a tool called **Jupyter Notebooks**, which in the past few years has been extremely popular in the data science and artificial intelligence communities to write and run code. In addition, Google has created a software called **Colaboratory** (Colabs for short), which allows us to run our Notebooks in Google Drive, just like with Google Docs or Google Sheets.\n",
    "\n",
    "**Let's try out Google Colabs by adding a _code block_ under this text. Click this text, and then on the top left of the web page, click the \"+ Code\" button.**"
   ]
  },
  {
   "cell_type": "markdown",
   "metadata": {
    "id": "dEYnZ7nqCoub"
   },
   "source": [
    "\n",
    "\n",
    "---\n",
    "\n",
    "You can write new Python code in any of the code blocks within this Notebook. When you want to run the code that you've written, make sure you have the code block selected, and hit the Play button on the left side of the block.\n",
    "\n",
    "If you want to delete a code block, select it, and then click on trash can icon. If this icon is not available, click on the three dots on the right side of the block to show the \"Delete Cell\" option. \n",
    "\n",
    "Python code persists between code blocks within this Notebook. That means that if you write some code in one code block, it can affect future code blocks. When we talk about variables next, this means that if you declare a variable in one code block, you can still access it in a different code block afterwards.\n",
    "\n",
    "As you work more in Google Colabs over this program, you may use other functions, such as adding text blocks, rearranging cells, and maybe even learning some **Markdown**, which is a language used to help style text blocks.\n",
    "\n"
   ]
  },
  {
   "cell_type": "markdown",
   "metadata": {
    "id": "HchKd8LTDALA"
   },
   "source": [
    "## Variables and Data Types\n",
    "\n",
    "In contrast to Java, you are not required to specify the data type of a given variable. \n",
    "\n",
    "For example:"
   ]
  },
  {
   "cell_type": "code",
   "execution_count": 4,
   "metadata": {
    "id": "WWHPfeGiDOEw"
   },
   "outputs": [
    {
     "name": "stdout",
     "output_type": "stream",
     "text": [
      "This is a string!\n",
      "34.1\n"
     ]
    }
   ],
   "source": [
    "some_string = \"This is a string!\"\n",
    "some_string_2 = 'This is also a string'\n",
    "some_number = 13.45\n",
    "some_bool = True\n",
    "\n",
    "print(some_string)\n",
    "\n",
    "# What happens if you assign an integer to a variable that was originally a string?\n",
    "\n",
    "some_string = 34.1\n",
    "\n",
    "print(some_string)\n",
    "\n"
   ]
  },
  {
   "cell_type": "markdown",
   "metadata": {
    "id": "OtNsR3p_DqlJ"
   },
   "source": [
    "## Variable Naming Rules\n",
    "\n",
    "Variables are case-sensitive. That means a variable named `thing` and one named `Thing` are different.\n",
    "\n",
    "It is important to note that, you:\n",
    "\n",
    "*   Can only start a variable name with a letter or underscore (no numbers)\n",
    "*   Can't include a space in a variable name\n",
    "*   Can't use any special characters (like `-` or `+`) or punctuation (like `.` or `,`)\n",
    "\n",
    "Finally, you cannot use \"reserved keywords\" as variable names. \"Reserved keywords\" are special words in the Python language that do specific things in your code (i.e. for).\n"
   ]
  },
  {
   "cell_type": "markdown",
   "metadata": {
    "id": "bQ4mUZ07EIVm"
   },
   "source": [
    "## Math Operators\n",
    "\n",
    "Just like any modern programming language, you can use the usual math operators."
   ]
  },
  {
   "cell_type": "code",
   "execution_count": 5,
   "metadata": {
    "id": "N63Leo5UEHxE"
   },
   "outputs": [],
   "source": [
    "addition = 3 + 5\n",
    "subtraction = 10 - 2\n",
    "multiplication = 4 * 9\n",
    "division = 121 / 11\n",
    "exponentiation = 3 ** 2\n",
    "modulo = 35 % 2\n",
    "\n",
    "# Feel free to print these variables to see what they contain"
   ]
  },
  {
   "cell_type": "markdown",
   "metadata": {
    "id": "46r5iqPwEhQX"
   },
   "source": [
    "### An Arithmetic Shortcut\n",
    "\n",
    "The ++ and -- operators do not work in Python. Other shortcuts are supported though."
   ]
  },
  {
   "cell_type": "code",
   "execution_count": 6,
   "metadata": {
    "id": "pzdY_KcrEEh_"
   },
   "outputs": [
    {
     "name": "stdout",
     "output_type": "stream",
     "text": [
      "21\n",
      "26\n",
      "2\n"
     ]
    }
   ],
   "source": [
    "a = 20\n",
    "a += 1\n",
    "print(a)\n",
    "\n",
    "a += 5\n",
    "print(a)\n",
    "\n",
    "b = 3\n",
    "b -=1\n",
    "print(b)"
   ]
  },
  {
   "cell_type": "markdown",
   "metadata": {
    "id": "ldAYxvum5fdP"
   },
   "source": [
    "### Operators and Data Types\n",
    "\n",
    "Let's see what happens when operands have different data types."
   ]
  },
  {
   "cell_type": "code",
   "execution_count": 7,
   "metadata": {
    "id": "0KJsREyb5urA"
   },
   "outputs": [
    {
     "name": "stdout",
     "output_type": "stream",
     "text": [
      "Data Structures\n",
      "Data Structures3\n"
     ]
    }
   ],
   "source": [
    "c = 'Data Structures'\n",
    "print(c)\n",
    "\n",
    "f = c + '3'\n",
    "print(f)\n",
    "\n"
   ]
  },
  {
   "cell_type": "markdown",
   "metadata": {
    "id": "mlGwRd-554q-"
   },
   "source": [
    "Data type of a variable can change"
   ]
  },
  {
   "cell_type": "code",
   "execution_count": 8,
   "metadata": {
    "id": "-OWxWrWv56Wi"
   },
   "outputs": [
    {
     "name": "stdout",
     "output_type": "stream",
     "text": [
      "3.1416\n",
      "Data Structures\n"
     ]
    }
   ],
   "source": [
    "a = 3.1416\n",
    "print(a)\n",
    "\n",
    "a = 'Data Structures'\n",
    "print(a)"
   ]
  },
  {
   "cell_type": "markdown",
   "metadata": {
    "id": "KLfTBRKK57wR"
   },
   "source": [
    "The *type* function returns the type of a variable"
   ]
  },
  {
   "cell_type": "code",
   "execution_count": 9,
   "metadata": {
    "id": "ziVA64PV58-a"
   },
   "outputs": [
    {
     "name": "stdout",
     "output_type": "stream",
     "text": [
      "<class 'float'>\n",
      "<class 'str'>\n",
      "<class 'int'>\n"
     ]
    }
   ],
   "source": [
    "a = 3.1416\n",
    "print(type(a))\n",
    "\n",
    "a = 'Data Structures'\n",
    "print(type(a))\n",
    "\n",
    "a = 2302\n",
    "print(type(a))"
   ]
  },
  {
   "cell_type": "markdown",
   "metadata": {
    "id": "63C1tP0kEwnt"
   },
   "source": [
    "## User Input\n",
    "\n",
    "Up until now, we've worked on printing, creating variables, and doing some math. All of that is useful, but what makes many programs interesting and valuable are that they can take in user input and change how they run.\n",
    "\n",
    "To get user input from the terminal, we do the following:"
   ]
  },
  {
   "cell_type": "code",
   "execution_count": 10,
   "metadata": {
    "id": "nHVy4LKcE0JH"
   },
   "outputs": [
    {
     "name": "stdout",
     "output_type": "stream",
     "text": [
      "You said: Hello World\n"
     ]
    }
   ],
   "source": [
    "answer = input(\"Tell me something: \")\n",
    "print(\"You said:\", answer)"
   ]
  },
  {
   "cell_type": "markdown",
   "metadata": {
    "id": "wwJGmDrQ0EoB"
   },
   "source": [
    "## Functions, Conditionals, and Iteration\n",
    "\n",
    "\n"
   ]
  },
  {
   "cell_type": "markdown",
   "metadata": {
    "id": "F2dHa8-A6Esa"
   },
   "source": [
    "*if* statements are similar to Java's\n",
    "\n",
    "grouping of statements is indicated by indentation\n",
    "\n",
    "*:* indicates the start of a block\n"
   ]
  },
  {
   "cell_type": "code",
   "execution_count": 11,
   "metadata": {
    "id": "QtsujohC6Iaz"
   },
   "outputs": [
    {
     "name": "stdout",
     "output_type": "stream",
     "text": [
      "a is greater than 10\n",
      "a is not greater than 100\n"
     ]
    }
   ],
   "source": [
    "a= 20\n",
    "if a > 10:\n",
    "    print('a is greater than 10')\n",
    "else:\n",
    "    print('a is not greater than 10')\n",
    "\n",
    "if a > 100:\n",
    "    print('a is greater than 100')\n",
    "else:\n",
    "    print('a is not greater than 100')"
   ]
  },
  {
   "cell_type": "markdown",
   "metadata": {
    "id": "ue1CDIPJ6Ppd"
   },
   "source": [
    "*while* statements are similar to Java's"
   ]
  },
  {
   "cell_type": "code",
   "execution_count": 12,
   "metadata": {
    "id": "ed0240qj6PZk"
   },
   "outputs": [
    {
     "name": "stdout",
     "output_type": "stream",
     "text": [
      "1\n",
      "2\n",
      "3\n",
      "4\n",
      "5\n",
      "6\n",
      "7\n",
      "8\n",
      "9\n",
      "10\n"
     ]
    }
   ],
   "source": [
    "a = 0\n",
    "while a < 10:\n",
    "    a += 1\n",
    "    print(a)\n",
    "    "
   ]
  },
  {
   "cell_type": "markdown",
   "metadata": {
    "id": "Sjwwz6Bp6Tck"
   },
   "source": [
    "*for* loops are commonly used in combination with the *range* function\n",
    "\n"
   ]
  },
  {
   "cell_type": "code",
   "execution_count": 13,
   "metadata": {
    "id": "abjwim8R6Xgm"
   },
   "outputs": [
    {
     "name": "stdout",
     "output_type": "stream",
     "text": [
      "0\n",
      "1\n",
      "2\n",
      "3\n",
      "4\n",
      "5\n",
      "6\n",
      "7\n",
      "8\n",
      "9\n"
     ]
    }
   ],
   "source": [
    "for i in range(10): \n",
    "    print(i)"
   ]
  },
  {
   "cell_type": "markdown",
   "metadata": {
    "id": "iRPuybDl6ZH-"
   },
   "source": [
    "*range* receives 1, 2, or 3 parameters, corresponding to start, end (non-inclusive) and step\n",
    "\n",
    "if 1 parameter is specified, it's assumed to be the end; start defaults to 0 and step to 1\n",
    "\n",
    "if 2 parameters are specified, they're assumed to be start and end; step defaults to 1"
   ]
  },
  {
   "cell_type": "code",
   "execution_count": 14,
   "metadata": {
    "id": "vWRLtufI6ehe"
   },
   "outputs": [
    {
     "name": "stdout",
     "output_type": "stream",
     "text": [
      "5\n",
      "6\n",
      "7\n",
      "8\n",
      "9\n"
     ]
    }
   ],
   "source": [
    "for i in range(5,10): # start = 5, end = 10, step = 1 (default value)\n",
    "    print(i)"
   ]
  },
  {
   "cell_type": "code",
   "execution_count": 15,
   "metadata": {
    "id": "48E8YHZv6gTp"
   },
   "outputs": [
    {
     "name": "stdout",
     "output_type": "stream",
     "text": [
      "1\n",
      "3\n",
      "5\n",
      "7\n",
      "9\n"
     ]
    }
   ],
   "source": [
    "for i in range(1,10,2): # start = 1, end = 10, step = 2\n",
    "    print(i)"
   ]
  },
  {
   "cell_type": "code",
   "execution_count": 16,
   "metadata": {
    "id": "vW7Ll3rq6hcR"
   },
   "outputs": [
    {
     "name": "stdout",
     "output_type": "stream",
     "text": [
      "0\n",
      "1\n",
      "2\n",
      "3\n",
      "4\n",
      "5\n",
      "6\n",
      "7\n",
      "8\n",
      "9\n"
     ]
    }
   ],
   "source": [
    "for i in range(10): # start = 0 (default value), end = 10, step = 1 (default value)\n",
    "    print(i)"
   ]
  },
  {
   "cell_type": "code",
   "execution_count": 17,
   "metadata": {
    "id": "2JfG4IyA6ihE"
   },
   "outputs": [
    {
     "name": "stdout",
     "output_type": "stream",
     "text": [
      "10\n",
      "9\n",
      "8\n",
      "7\n",
      "6\n",
      "5\n",
      "4\n",
      "3\n",
      "2\n",
      "1\n"
     ]
    }
   ],
   "source": [
    "for i in range(10,0,-1): # start = 10, end = 0, step = -1 (default value)\n",
    "    print(i)"
   ]
  },
  {
   "cell_type": "markdown",
   "metadata": {
    "id": "GcrZDDRX6b8O"
   },
   "source": [
    "It is possible to have no elements in the specified *range*. This does not cause an error; the body of the loop is simply not executed"
   ]
  },
  {
   "cell_type": "code",
   "execution_count": 18,
   "metadata": {
    "id": "dwqgOL-26mAf"
   },
   "outputs": [
    {
     "name": "stdout",
     "output_type": "stream",
     "text": [
      "0\n",
      "1\n",
      "2\n",
      "3\n",
      "4\n",
      "5\n",
      "6\n",
      "7\n",
      "8\n",
      "9\n"
     ]
    }
   ],
   "source": [
    "for i in range(10): # start = 10, end = 0, step = 1 (default value)\n",
    "    print(i)"
   ]
  },
  {
   "cell_type": "code",
   "execution_count": 19,
   "metadata": {
    "id": "IH_69Dsn6ngm"
   },
   "outputs": [],
   "source": [
    "for i in range(0,10,-1): # start = 0, end = 10, step = -1\n",
    "  print(i)"
   ]
  },
  {
   "cell_type": "markdown",
   "metadata": {
    "id": "0nEJkEVp6DgH"
   },
   "source": [
    "Let's create a Python function, and call it from a loop."
   ]
  },
  {
   "cell_type": "code",
   "execution_count": 20,
   "metadata": {
    "id": "pRllo2HLfXiu"
   },
   "outputs": [
    {
     "name": "stdout",
     "output_type": "stream",
     "text": [
      "--- Now running with i:  8\n",
      "Hello World, x was < 10\n",
      "Result from hello_world_xy:  16\n",
      "--- Now running with i:  13\n",
      "Hello World, x was >= 10 but < 20\n",
      "Result from hello_world_xy:  26\n",
      "--- Now running with i:  18\n",
      "Hello World, x was >= 10 but < 20\n",
      "Result from hello_world_xy:  36\n",
      "--- Now running with i:  23\n",
      "Hello World, x was >= 20\n",
      "Result from hello_world_xy:  46\n"
     ]
    }
   ],
   "source": [
    "def hello_world_xy(x, y):\n",
    "  if (x < 10):\n",
    "    print(\"Hello World, x was < 10\")\n",
    "  elif (x < 20):\n",
    "    print(\"Hello World, x was >= 10 but < 20\")\n",
    "  else:\n",
    "    print(\"Hello World, x was >= 20\")\n",
    "  return x + y\n",
    "\n",
    "for i in range(8, 25, 5):  # i=8, 13, 18, 23 (start, stop, step)\n",
    "  print(\"--- Now running with i: \", i)\n",
    "  r = hello_world_xy(i,i)\n",
    "  print(\"Result from hello_world_xy: \", r)"
   ]
  },
  {
   "cell_type": "code",
   "execution_count": 21,
   "metadata": {
    "id": "lHNmDCh0JpVP"
   },
   "outputs": [
    {
     "name": "stdout",
     "output_type": "stream",
     "text": [
      "Hello World, x was < 10\n",
      "3\n"
     ]
    }
   ],
   "source": [
    "print(hello_world_xy(1,2))"
   ]
  },
  {
   "cell_type": "markdown",
   "metadata": {
    "id": "kiZG7uhm8qCF"
   },
   "source": [
    "Easy, right?\n",
    "\n",
    "If you want a loop starting at 0 to 2 (exclusive) you could do any of the following"
   ]
  },
  {
   "cell_type": "code",
   "execution_count": 22,
   "metadata": {
    "id": "m8YQN1H41L-Y"
   },
   "outputs": [
    {
     "name": "stdout",
     "output_type": "stream",
     "text": [
      "Iterate over the items. `range(2)` is like a list [0,1].\n",
      "0\n",
      "1\n",
      "Iterate over an actual list.\n",
      "0\n",
      "1\n",
      "While works\n",
      "0\n",
      "1\n"
     ]
    }
   ],
   "source": [
    "print(\"Iterate over the items. `range(2)` is like a list [0,1].\")\n",
    "for i in range(2):\n",
    "  print(i)\n",
    "\n",
    "print(\"Iterate over an actual list.\")\n",
    "for i in [0,1]:\n",
    "  print(i)\n",
    "\n",
    "print(\"While works\")\n",
    "i = 0\n",
    "while i < 2:\n",
    "  print(i)\n",
    "  i += 1"
   ]
  },
  {
   "cell_type": "code",
   "execution_count": 23,
   "metadata": {
    "id": "vIgmFZq4zszl"
   },
   "outputs": [
    {
     "name": "stdout",
     "output_type": "stream",
     "text": [
      "Python supports standard key words like continue and break\n",
      "Entered while\n"
     ]
    }
   ],
   "source": [
    "print(\"Python supports standard key words like continue and break\")\n",
    "while True:\n",
    "  print(\"Entered while\")\n",
    "  break"
   ]
  },
  {
   "cell_type": "code",
   "execution_count": 24,
   "metadata": {
    "id": "jt9i8aY6SmiL"
   },
   "outputs": [
    {
     "name": "stdout",
     "output_type": "stream",
     "text": [
      "Printing values 3, 5, 7,...\n",
      "3\n",
      "5\n",
      "7\n",
      "9\n",
      "11\n",
      "13\n",
      "15\n",
      "17\n",
      "19\n"
     ]
    }
   ],
   "source": [
    "print(\"Printing values 3, 5, 7,...\")\n",
    "\n",
    "n = 20\n",
    "\n",
    "for i in range(3, n, 2): # range(start - included, stop - excluded, step)\n",
    "  print(i)"
   ]
  },
  {
   "cell_type": "markdown",
   "metadata": {
    "id": "NRNsYiE6FA06"
   },
   "source": [
    "Notice how we used indentation to tell Python which block of code should be run as part of a conditional or a method. \n",
    "\n",
    "Python does not use the curly braces `{}` for this purpose. "
   ]
  },
  {
   "cell_type": "markdown",
   "metadata": {
    "id": "-7wfLpSb6shx"
   },
   "source": [
    "Loops, of course, can be nested\n"
   ]
  },
  {
   "cell_type": "code",
   "execution_count": 25,
   "metadata": {
    "id": "_XyYRPkp6ty2"
   },
   "outputs": [
    {
     "name": "stdout",
     "output_type": "stream",
     "text": [
      "0 10\n",
      "0 11\n",
      "0 12\n",
      "0 13\n",
      "0 14\n",
      "1 10\n",
      "1 11\n",
      "1 12\n",
      "1 13\n",
      "1 14\n",
      "2 10\n",
      "2 11\n",
      "2 12\n",
      "2 13\n",
      "2 14\n"
     ]
    }
   ],
   "source": [
    "for i in range(3):\n",
    "    for j in range(10,15):\n",
    "        print(i,j)"
   ]
  },
  {
   "cell_type": "code",
   "execution_count": 26,
   "metadata": {
    "id": "c_7F12Q96vS6"
   },
   "outputs": [
    {
     "name": "stdout",
     "output_type": "stream",
     "text": [
      "0 0\n",
      "0 1\n",
      "0 2\n",
      "0 3\n",
      "0 4\n",
      "0 5\n",
      "1 1\n",
      "1 2\n",
      "1 3\n",
      "1 4\n",
      "1 5\n",
      "2 2\n",
      "2 3\n",
      "2 4\n",
      "2 5\n",
      "3 3\n",
      "3 4\n",
      "3 5\n",
      "4 4\n",
      "4 5\n"
     ]
    }
   ],
   "source": [
    "for i in range(5):\n",
    "    j = i\n",
    "    while j<6:\n",
    "        print(i,j)\n",
    "        j +=1"
   ]
  },
  {
   "cell_type": "markdown",
   "metadata": {
    "id": "mjE5Pmby5DHc"
   },
   "source": [
    "Functions are declared using the **def** keyword\n",
    "\n",
    "Parameter types are not specified; they are determined at run time and may be different for different calls\n",
    "\n",
    "Return type is not specified and can be different for different parameters"
   ]
  },
  {
   "cell_type": "code",
   "execution_count": 27,
   "metadata": {
    "id": "56KPyxh95H5t"
   },
   "outputs": [],
   "source": [
    "def plus(a,b):\n",
    "    return a+b"
   ]
  },
  {
   "cell_type": "markdown",
   "metadata": {
    "id": "KD_8Mkw-5VaC"
   },
   "source": [
    "This returns an integer"
   ]
  },
  {
   "cell_type": "code",
   "execution_count": 28,
   "metadata": {
    "id": "xqxLlFFJ5Y8i"
   },
   "outputs": [
    {
     "name": "stdout",
     "output_type": "stream",
     "text": [
      "8\n"
     ]
    }
   ],
   "source": [
    "a = plus(3,5)\n",
    "print(a)"
   ]
  },
  {
   "cell_type": "markdown",
   "metadata": {
    "id": "DBzPui2e5fs-"
   },
   "source": [
    "This returns a floating point number"
   ]
  },
  {
   "cell_type": "code",
   "execution_count": 29,
   "metadata": {
    "id": "v86jSwXb5i9a"
   },
   "outputs": [
    {
     "name": "stdout",
     "output_type": "stream",
     "text": [
      "8.08\n"
     ]
    }
   ],
   "source": [
    "a = plus(2.3,5.78)\n",
    "print(a)"
   ]
  },
  {
   "cell_type": "markdown",
   "metadata": {
    "id": "RIUdtvQD5nr3"
   },
   "source": [
    "This returns a string"
   ]
  },
  {
   "cell_type": "code",
   "execution_count": 30,
   "metadata": {
    "id": "-1Zytsmy5nD4"
   },
   "outputs": [
    {
     "name": "stdout",
     "output_type": "stream",
     "text": [
      "CS2302\n"
     ]
    }
   ],
   "source": [
    "a = plus('CS','2302')\n",
    "print(a)"
   ]
  },
  {
   "cell_type": "markdown",
   "metadata": {
    "id": "FuzcMh1k5yj8"
   },
   "source": [
    "If a function execution ends without reaching a return statement, it returns the defult value 'None'.\n",
    "\n"
   ]
  },
  {
   "cell_type": "code",
   "execution_count": 31,
   "metadata": {
    "id": "6h0CqAGF53jy"
   },
   "outputs": [
    {
     "name": "stdout",
     "output_type": "stream",
     "text": [
      "None\n",
      "None\n"
     ]
    }
   ],
   "source": [
    "def f(a,b):\n",
    "    c = a+b\n",
    "    \n",
    "\n",
    "print(f(3,5))\n",
    "print(f(3.4,5.3))"
   ]
  },
  {
   "cell_type": "code",
   "execution_count": 32,
   "metadata": {
    "id": "OvNygvVqsA8V"
   },
   "outputs": [
    {
     "name": "stdout",
     "output_type": "stream",
     "text": [
      "0\n"
     ]
    }
   ],
   "source": [
    "def f(n):\n",
    "  count = 0\n",
    "  for i in range(n):\n",
    "    count+= i\n",
    "    return count\n",
    "\n",
    "print(f(10))"
   ]
  },
  {
   "cell_type": "markdown",
   "metadata": {
    "id": "O0rQ3gtJ577w"
   },
   "source": [
    "As in Java, parameter values (1,2 in the example below) are copied to the local parameter variables (a,b in the example below) in the order they appear (a=1, b=2)"
   ]
  },
  {
   "cell_type": "code",
   "execution_count": 33,
   "metadata": {
    "id": "Y0MOCY486EL1"
   },
   "outputs": [
    {
     "name": "stdout",
     "output_type": "stream",
     "text": [
      "8\n"
     ]
    }
   ],
   "source": [
    "def g(a,b):\n",
    "    return 2*a + 3*b\n",
    "\n",
    "print(g(1,2))"
   ]
  },
  {
   "cell_type": "markdown",
   "metadata": {
    "id": "2QkiTCLQ6JGj"
   },
   "source": [
    "We can use the local parameter variable names in the calling function"
   ]
  },
  {
   "cell_type": "code",
   "execution_count": 34,
   "metadata": {
    "id": "i9QItNHJ6Hjv"
   },
   "outputs": [
    {
     "name": "stdout",
     "output_type": "stream",
     "text": [
      "8\n"
     ]
    }
   ],
   "source": [
    "print(g(a=1,b=2)) # This is the same as print(g(1,2))"
   ]
  },
  {
   "cell_type": "code",
   "execution_count": 35,
   "metadata": {
    "id": "1u8B0f0t9j7Z"
   },
   "outputs": [
    {
     "name": "stdout",
     "output_type": "stream",
     "text": [
      "7\n"
     ]
    }
   ],
   "source": [
    "print(g(b=1,a=2))"
   ]
  },
  {
   "cell_type": "markdown",
   "metadata": {
    "id": "6IsgT35p6IUt"
   },
   "source": [
    "We can specify default parameter values\n",
    "\n",
    "In the example below, a will be equal to 1 and b will be equal to 2 unless their values are specified by the calling function"
   ]
  },
  {
   "cell_type": "code",
   "execution_count": 36,
   "metadata": {
    "id": "hycDl8Ga6iNe"
   },
   "outputs": [],
   "source": [
    "def h(a=1,b=2):\n",
    "    return 2*a + 3*b\n"
   ]
  },
  {
   "cell_type": "code",
   "execution_count": 37,
   "metadata": {
    "id": "S_Am6-3V9txu"
   },
   "outputs": [
    {
     "name": "stdout",
     "output_type": "stream",
     "text": [
      "8\n"
     ]
    }
   ],
   "source": [
    "print(h())  # a defaults to 1, b defaults to 2"
   ]
  },
  {
   "cell_type": "code",
   "execution_count": 38,
   "metadata": {
    "id": "RyI4Hu9c9ysU"
   },
   "outputs": [
    {
     "name": "stdout",
     "output_type": "stream",
     "text": [
      "26\n"
     ]
    }
   ],
   "source": [
    "print(h(10))  # a is set to 10, b defaults to 2"
   ]
  },
  {
   "cell_type": "code",
   "execution_count": 39,
   "metadata": {
    "id": "uCrf_8Jd9yjG"
   },
   "outputs": [
    {
     "name": "stdout",
     "output_type": "stream",
     "text": [
      "26\n"
     ]
    }
   ],
   "source": [
    "print(h(a=10))  # a is set to 10, b defaults to 2"
   ]
  },
  {
   "cell_type": "code",
   "execution_count": 40,
   "metadata": {
    "id": "IPHYM6S29yc4"
   },
   "outputs": [
    {
     "name": "stdout",
     "output_type": "stream",
     "text": [
      "32\n"
     ]
    }
   ],
   "source": [
    "print(h(b=10))  # b is set to 10, a defaults to 1"
   ]
  },
  {
   "cell_type": "code",
   "execution_count": 41,
   "metadata": {
    "id": "jCYIWBaH9yUI"
   },
   "outputs": [
    {
     "name": "stdout",
     "output_type": "stream",
     "text": [
      "20\n"
     ]
    }
   ],
   "source": [
    "print(h(10,0))  # a is set to 10, b is set to 0"
   ]
  },
  {
   "cell_type": "code",
   "execution_count": 42,
   "metadata": {
    "id": "yzM_MDGI9yEX"
   },
   "outputs": [
    {
     "name": "stdout",
     "output_type": "stream",
     "text": [
      "30\n"
     ]
    }
   ],
   "source": [
    "print(h(b=10,a=0))  # b is set to 10, a is set to 0"
   ]
  },
  {
   "cell_type": "markdown",
   "metadata": {
    "id": "5QyOUhFw1OUX"
   },
   "source": [
    "## Lists\n",
    "Python has lists built into the language. You can think of them as Array Lists in Java. "
   ]
  },
  {
   "cell_type": "code",
   "execution_count": 43,
   "metadata": {
    "id": "4Dxk4q-jzEy4"
   },
   "outputs": [
    {
     "name": "stdout",
     "output_type": "stream",
     "text": [
      "Current array:  [1, 5, 2, 9, 10]\n",
      "Printing each element\n",
      "1\n",
      "5\n",
      "2\n",
      "9\n",
      "10\n",
      "\n",
      "Printing each element and their index\n",
      "Index:  0 num:  1\n",
      "Index:  1 num:  5\n",
      "Index:  2 num:  2\n",
      "Index:  3 num:  9\n",
      "Index:  4 num:  10\n"
     ]
    }
   ],
   "source": [
    "# Create an empty list and append some values to it\n",
    "nums = []\n",
    "nums.append(1)\n",
    "nums.append(5)\n",
    "nums.append(2)\n",
    "nums.append(9)\n",
    "nums.append(10)\n",
    "print(\"Current array: \", nums)\n",
    "\n",
    "print(\"Printing each element\")\n",
    "for num in nums:\n",
    "  print(num)\n",
    "\n",
    "print(\"\\nPrinting each element and their index\")\n",
    "for i,num in enumerate(nums):\n",
    "  print(\"Index: \", i , \"num: \", num)"
   ]
  },
  {
   "cell_type": "markdown",
   "metadata": {
    "id": "cxlPiyk8Fbhm"
   },
   "source": [
    "Notice how a list is not constrained to hold values of only one data type:"
   ]
  },
  {
   "cell_type": "code",
   "execution_count": 44,
   "metadata": {
    "id": "39cWRihqFpqC"
   },
   "outputs": [
    {
     "name": "stdout",
     "output_type": "stream",
     "text": [
      "5\n",
      "something\n",
      "True\n",
      "4.5\n",
      "okay\n",
      "\n",
      "Is 5 in the list?\n",
      "The number 5 is in this list!\n"
     ]
    }
   ],
   "source": [
    "some_random_list = [5, \"something\", True, 4.5, \"okay\"]\n",
    "\n",
    "for elem in some_random_list:\n",
    "  print(elem)\n",
    "\n",
    "# To test if something is in a list, we use the operator 'in'\n",
    "\n",
    "print(\"\\nIs 5 in the list?\")\n",
    "if 5 in some_random_list:\n",
    "  print(\"The number 5 is in this list!\")"
   ]
  },
  {
   "cell_type": "markdown",
   "metadata": {
    "id": "eXgEtPCaFvvY"
   },
   "source": [
    "By the way, to know the type of a variable you can do the following:"
   ]
  },
  {
   "cell_type": "code",
   "execution_count": 45,
   "metadata": {
    "id": "k7LzX6l3F0-D"
   },
   "outputs": [
    {
     "name": "stdout",
     "output_type": "stream",
     "text": [
      "<class 'int'>\n",
      "<class 'str'>\n",
      "<class 'list'>\n"
     ]
    }
   ],
   "source": [
    "x = 10\n",
    "\n",
    "print(type(x))\n",
    "\n",
    "x = \"Hello\"\n",
    "\n",
    "print(type(x))\n",
    "\n",
    "x = [\"Am\", \"I\", \"A\",\"List\",\"?\", 2302]\n",
    "\n",
    "print(type(x))"
   ]
  },
  {
   "cell_type": "markdown",
   "metadata": {
    "id": "EsO7-0-rGJLp"
   },
   "source": [
    "\n",
    "\n",
    "Here's are more examples of loops. Notice how the boolean operators are a little different than the ones used in Java. Feel free to Google a comprehensive list of operators."
   ]
  },
  {
   "cell_type": "code",
   "execution_count": 46,
   "metadata": {
    "id": "KPBTcW8vGia9"
   },
   "outputs": [
    {
     "name": "stdout",
     "output_type": "stream",
     "text": [
      "x:  500  y:  4\n",
      "x:  125  y:  8\n",
      "x:  15  y:  16\n",
      "x:  0  y:  32\n"
     ]
    }
   ],
   "source": [
    "x = 1000\n",
    "y = 2\n",
    "\n",
    "while x > 0 and y < 80:\n",
    "  x = x // y  # Integer division\n",
    "  y *= 2\n",
    "\n",
    "  print(\"x: \", x, \" y: \", y)"
   ]
  },
  {
   "cell_type": "code",
   "execution_count": 47,
   "metadata": {
    "id": "EuDgx0vCHCok"
   },
   "outputs": [
    {
     "name": "stdout",
     "output_type": "stream",
     "text": [
      "x:  500.0  y:  4\n",
      "x:  125.0  y:  8\n",
      "x:  15.625  y:  16\n",
      "x:  0.9765625  y:  32\n",
      "x:  0.030517578125  y:  64\n",
      "x:  0.000476837158203125  y:  128\n"
     ]
    }
   ],
   "source": [
    "x = 1000\n",
    "y = 2\n",
    "\n",
    "while x > 0 and y < 80:\n",
    "  x = x / y  \n",
    "  y *= 2\n",
    "\n",
    "  print(\"x: \", x, \" y: \", y)"
   ]
  },
  {
   "cell_type": "markdown",
   "metadata": {
    "id": "oUyRFrN1HO5T"
   },
   "source": [
    "For loops in Python are similar to for-each loops in Java. They are commonly used to traverse a data structure that contains a collection of elements."
   ]
  },
  {
   "cell_type": "code",
   "execution_count": 48,
   "metadata": {
    "id": "nd4iAA_mHcaw"
   },
   "outputs": [
    {
     "name": "stdout",
     "output_type": "stream",
     "text": [
      "Range example...\n",
      "2\n",
      "5\n",
      "8\n",
      "List example...\n",
      "string\n",
      "12\n",
      "34.2\n",
      "True\n",
      "False\n",
      "0.5\n",
      "0\n",
      "1024\n"
     ]
    }
   ],
   "source": [
    "print(\"Range example...\")\n",
    "for num in range(2, 10, 3):\n",
    "  print(num)\n",
    "\n",
    "\n",
    "print(\"List example...\")\n",
    "elems = [\"string\", 12, 34.2, True, False, 1/2, 1//2, 2**10]\n",
    "\n",
    "for elem in elems:\n",
    "  print (elem)  "
   ]
  },
  {
   "cell_type": "markdown",
   "metadata": {
    "id": "HXeY3ekkJD1Y"
   },
   "source": [
    "\n",
    "## Working with Strings\n",
    "\n",
    "Here are some examples of some basic string operations"
   ]
  },
  {
   "cell_type": "code",
   "execution_count": 49,
   "metadata": {
    "id": "hshCb6BMwUOt"
   },
   "outputs": [
    {
     "name": "stdout",
     "output_type": "stream",
     "text": [
      "I love Data Structures\n",
      " l\n",
      "ove Data Structures\n",
      "True\n",
      "False\n",
      "I love Data Structure\n",
      " love Data Structur\n"
     ]
    }
   ],
   "source": [
    "s = \"I love Data Structures\"\n",
    "\n",
    "print(s)\n",
    "\n",
    "print(s[1:3])\n",
    "\n",
    "print(s[3:])\n",
    "\n",
    "print(\"love\" in s)\n",
    "\n",
    "print(\"test\" in s)\n",
    "\n",
    "print(s[:-1])\n",
    "\n",
    "print(s[1:-2])\n",
    "\n",
    "# Feel free to do a Google search on basic string manipulation operations"
   ]
  },
  {
   "cell_type": "markdown",
   "metadata": {
    "id": "UyElvkwWUJKx"
   },
   "source": [
    "## Classes"
   ]
  },
  {
   "cell_type": "markdown",
   "metadata": {
    "id": "Mm9eWrK7UVB7"
   },
   "source": [
    "Just like in Java, Python supports classes. Let's learn how to create and use a class in Python.\n",
    "\n",
    "Let's create a class called TreeNode which we can then use to build binary tree. In Java, this class would look like this:\n",
    "\n",
    "    public class TreeNode {\n",
    "        private TreeNode left;\n",
    "        private TreeNode right;\n",
    "        private int val;\n",
    "\n",
    "        public TreeNode(TreeNode left, TreeNode right, int val) {\n",
    "            this.left = left;\n",
    "            this.right = right;\n",
    "            this.val = val;\n",
    "        }\n",
    "\n",
    "        public TreeNode getLeft() {\n",
    "            return left;\n",
    "        }\n",
    "\n",
    "        public void setLeft(TreeNode left) {\n",
    "            this.left = left;\n",
    "        }\n",
    "\n",
    "        public TreeNode getRight() {\n",
    "            return right;\n",
    "        }\n",
    "\n",
    "        public void setRight(TreeNode right) {\n",
    "            this.right = right;\n",
    "        }\n",
    "\n",
    "        public int getVal() {\n",
    "            return val;\n",
    "        }\n",
    "\n",
    "        public void setVal(int val) {\n",
    "            this.val = val;\n",
    "        }\n",
    "    }\n",
    "\n",
    "This is an equivalent class in Python:"
   ]
  },
  {
   "cell_type": "code",
   "execution_count": 50,
   "metadata": {
    "id": "TDrNMIx_UK1y"
   },
   "outputs": [],
   "source": [
    "class TreeNode:\n",
    "  def __init__(self, val, left, right):\n",
    "    self.val = val\n",
    "    self.left = left\n",
    "    self.right = right\n",
    "    "
   ]
  },
  {
   "cell_type": "markdown",
   "metadata": {
    "id": "eLMCjebgV48v"
   },
   "source": [
    "Notice how, in Python, the constructor is defined in `__init__`. \n",
    "\n",
    "Also, notice the `self` keyword. It's equivalent to Java's `this` keyboard. In Java, methods are non-static by default; we use the keyword `static` to make a method static. In Python, we make methods non-static by including `self` as the first parameter. Even though `self` is the first parameter, you don't provide a value for it when you call the method.\n",
    "\n",
    "Here's an example on how to create a class with a constructor and a non-static method."
   ]
  },
  {
   "cell_type": "code",
   "execution_count": 51,
   "metadata": {
    "id": "BLbSGISXYbLl"
   },
   "outputs": [],
   "source": [
    "class TestClass:\n",
    "  def __init__(self, num):\n",
    "    self.num = num\n",
    "\n",
    "  def add_value_to_num(self, val):\n",
    "    self.num += val # notice how we need to use self.num to access the attribute 'num'\n"
   ]
  },
  {
   "cell_type": "markdown",
   "metadata": {
    "id": "ZAxd7p1kaH6Q"
   },
   "source": [
    "To access attributes or methods, we use the dot notation, as in Java.\n",
    "\n",
    "Unlike in Java, attributes are public. Here's how you can instantiate the class and use it."
   ]
  },
  {
   "cell_type": "code",
   "execution_count": 52,
   "metadata": {
    "id": "WVX0TXKCaOZx"
   },
   "outputs": [
    {
     "name": "stdout",
     "output_type": "stream",
     "text": [
      "2\n",
      "5\n"
     ]
    }
   ],
   "source": [
    "# Create object\n",
    "\n",
    "# We don't use the keyword 'new' like we do in Java.\n",
    "# Notice how we *ignore* self; 2 is the value assigned to num\n",
    "obj1 = TestClass(2) \n",
    "\n",
    "print(obj1.num)\n",
    "\n",
    "# Notice how we *ignore* self; 3 is the value assigned to val\n",
    "obj1.add_value_to_num(3)\n",
    "\n",
    "print(obj1.num)\n",
    "\n"
   ]
  },
  {
   "cell_type": "markdown",
   "metadata": {
    "id": "sqid2uV4bPxJ"
   },
   "source": [
    "Let's now use our TreeNode class to build the following binary tree.\n",
    "\n",
    "              3\n",
    "            /   \\\n",
    "           5     6\n",
    "          / \\   / \\\n",
    "         1  7  2   4  "
   ]
  },
  {
   "cell_type": "code",
   "execution_count": 53,
   "metadata": {
    "id": "i9MPaWa0bz8T"
   },
   "outputs": [],
   "source": [
    "root = TreeNode(3, None, None) # Notice how we use None instead of null\n",
    "\n",
    "root.left = TreeNode(5, None, None)\n",
    "root.right = TreeNode(6, None, None)\n",
    "\n",
    "root.left.left = TreeNode(1, None, None)\n",
    "root.left.right = TreeNode(7, None, None)\n",
    "\n",
    "root.right.left = TreeNode(2, None, None)\n",
    "root.right.right = TreeNode(4, None, None)\n"
   ]
  },
  {
   "cell_type": "markdown",
   "metadata": {
    "id": "Iy9k6QN7c9Cu"
   },
   "source": [
    "Notice how we had to pass `None` to  the attributes `left` and `right` a lot of times. Python allows methods (including the constructor) to have default values for their parameters! Let's change our class to take advantage of this."
   ]
  },
  {
   "cell_type": "code",
   "execution_count": 54,
   "metadata": {
    "id": "jDD_1_cv01dC"
   },
   "outputs": [],
   "source": [
    "class TreeNode:\n",
    "  def __init__(self, val, left=None, right=None):  # Notice how left and right have now default values\n",
    "    self.val = val\n",
    "    self.left = left\n",
    "    self.right = right\n",
    "    "
   ]
  },
  {
   "cell_type": "markdown",
   "metadata": {
    "id": "H-wGQofe07hj"
   },
   "source": [
    "We can now re-write our tree building code as follows."
   ]
  },
  {
   "cell_type": "code",
   "execution_count": 55,
   "metadata": {
    "id": "U_7FcXbg062Z"
   },
   "outputs": [],
   "source": [
    "root = TreeNode(3) \n",
    "\n",
    "root.left = TreeNode(5)\n",
    "root.right = TreeNode(6)\n",
    "\n",
    "root.left.left = TreeNode(1)\n",
    "root.left.right = TreeNode(7)\n",
    "\n",
    "root.right.left = TreeNode(2)\n",
    "root.right.right = TreeNode(4)\n"
   ]
  },
  {
   "cell_type": "markdown",
   "metadata": {
    "id": "y3SJcXP41WCF"
   },
   "source": [
    "Let's write a method that receives the root of a binary tree as input and returns the sum of all of the values in the tree."
   ]
  },
  {
   "cell_type": "code",
   "execution_count": 56,
   "metadata": {
    "id": "Go0sxYvv1esF"
   },
   "outputs": [],
   "source": [
    "def sum_tree_vals(root):\n",
    "  if root is None:\n",
    "    return 0\n",
    "\n",
    "  sl = sum_tree_vals(root.left)\n",
    "  sr = sum_tree_vals(root.right)\n",
    "  \n",
    "  return root.val + sl + sr"
   ]
  },
  {
   "cell_type": "markdown",
   "metadata": {
    "id": "_WM6pye82DIU"
   },
   "source": [
    "Let's test the method on the following tree:\n",
    "\n",
    "\n",
    "              3\n",
    "            /   \\\n",
    "           5     6\n",
    "          / \\   / \\\n",
    "         1  7  2   4  "
   ]
  },
  {
   "cell_type": "code",
   "execution_count": 57,
   "metadata": {
    "id": "9JlHr3U-2LAW"
   },
   "outputs": [
    {
     "name": "stdout",
     "output_type": "stream",
     "text": [
      "The sum is:  28\n"
     ]
    }
   ],
   "source": [
    "root = TreeNode(3) \n",
    "\n",
    "root.left = TreeNode(5)\n",
    "root.right = TreeNode(6)\n",
    "\n",
    "root.left.left = TreeNode(1)\n",
    "root.left.right = TreeNode(7)\n",
    "\n",
    "root.right.left = TreeNode(2)\n",
    "root.right.right = TreeNode(4)\n",
    "\n",
    "tree_sum = sum_tree_vals(root)\n",
    "\n",
    "print(\"The sum is: \", tree_sum)\n"
   ]
  },
  {
   "cell_type": "markdown",
   "metadata": {
    "id": "c-Jk4dG91dvD"
   },
   "source": [
    "\n",
    "## Colab Specifics (Optional)"
   ]
  },
  {
   "cell_type": "markdown",
   "metadata": {
    "id": "G0cGd8sHEmKi"
   },
   "source": [
    "Colab is a virtual machine you can access directly. To run commands at the VM's terminal, prefix the line with an exclamation point (!).\n"
   ]
  },
  {
   "cell_type": "code",
   "execution_count": 58,
   "metadata": {
    "id": "cLkfhyzq0W2y"
   },
   "outputs": [
    {
     "name": "stdout",
     "output_type": "stream",
     "text": [
      "\n",
      "Doing $ls on filesystem\n",
      "total 128\n",
      "-rw-r--r--@ 1 matt  staff  58213 Jan 25 17:55 Knowlton_Matthew_[DM_SP23]_Intro_to_Python_and_Colab.ipynb\n",
      "-rw-r--r--  1 matt  staff   1409 Jan 25 18:25 assignment.py\n",
      "/Users/matt/Projects/2302/HW1 - Intro to Python\n"
     ]
    }
   ],
   "source": [
    "print(\"\\nDoing $ls on filesystem\")\n",
    "!ls -l\n",
    "!pwd"
   ]
  },
  {
   "cell_type": "markdown",
   "metadata": {
    "id": "QuWRpQdatAIU"
   },
   "source": [
    "The following code cell does the following:\n",
    "\n",
    "\n",
    "*   List the path of the current directory (pwd)\n",
    "* Go to / (cd) and list the content (ls -l)"
   ]
  },
  {
   "cell_type": "code",
   "execution_count": 59,
   "metadata": {
    "id": "xU-cJbMCR61P"
   },
   "outputs": [
    {
     "name": "stdout",
     "output_type": "stream",
     "text": [
      "/Users/matt/Projects/2302/HW1 - Intro to Python\n",
      "total 128\n",
      "-rw-r--r--@ 1 matt  staff  58213 Jan 25 17:55 Knowlton_Matthew_[DM_SP23]_Intro_to_Python_and_Colab.ipynb\n",
      "-rw-r--r--  1 matt  staff   1409 Jan 25 18:25 assignment.py\n",
      "Hello\n"
     ]
    }
   ],
   "source": [
    "!pwd\n",
    "!cd /\n",
    "!ls -l\n",
    "print(\"Hello\")"
   ]
  },
  {
   "cell_type": "markdown",
   "metadata": {
    "id": "7b5jv0ouFREV"
   },
   "source": [
    "All usage of Colab in this course is completely free of charge. Even GPU usage is provided free of charge for some hours of usage every day.\n",
    "\n",
    "**Some final words on Colab**\n",
    "*   You execute each cell in order, you can edit & re-execute cells if you want\n",
    "*   Sometimes, this could have unintended consequences. For example, if you add a dimension to an array and execute the cell multiple times, then the cells after may not work. If you encounter problem reset your environment:\n",
    "  *   Runtime -> Restart runtime... Resets your Python shell\n",
    "  *   Runtime -> Restart all runtimes... Will reset the Colab image, and get you back to a 100% clean environment\n",
    "* You can also clear the output in the Colab by doing: Edit -> Clear all outputs\n",
    "\n"
   ]
  },
  {
   "cell_type": "markdown",
   "metadata": {
    "id": "ll9TQ0K7ARnE"
   },
   "source": [
    "## **Exercises**\n",
    "\n",
    "The code should compile for credit. If the code does not compile you will not receive credit for the excercise."
   ]
  },
  {
   "cell_type": "markdown",
   "metadata": {
    "id": "ByHVoiOIAbn-"
   },
   "source": [
    "***Exercise 1:*** Write a program that prints the numbers from 1 to n, but on multiples of 3 will print \"fizz\", on multiples of 5 will print \"buzz\", and on multiples of both 3 and 5 will print \"fizzbuzz\". For example, the start of your output should look like:\n",
    "\n",
    "> 1:\n",
    "\n",
    "> 2:\n",
    "\n",
    "> 3: fizz\n",
    "\n",
    "> 4:\n",
    "\n",
    "> 5: buzz\n",
    "\n",
    "> 6: fizz\n",
    "\n",
    "> 7: \n",
    "\n",
    "> 8:\n",
    "\n",
    "> 9: fizz\n",
    "\n",
    "> 10: buzz\n",
    "\n",
    "> 11:\n",
    "\n",
    "> 12: fizz\n",
    "\n",
    "> 13:\n",
    "\n",
    "> 14:\n",
    "\n",
    "> 15: fizzbuzz\n",
    "\n",
    "> 16:\n",
    "\n",
    "> ...\n"
   ]
  },
  {
   "cell_type": "code",
   "execution_count": 79,
   "metadata": {
    "id": "bkn8ICbBAbDE",
    "pycharm": {
     "is_executing": true
    }
   },
   "outputs": [],
   "source": [
    "def fizzbuzz(n: int) -> None:\n",
    "  for i in range(1,n+1):\n",
    "    print(f\"{i}: {'' if i%3 else 'fizz'}{'' if i%5 else 'buzz'}\")"
   ]
  },
  {
   "cell_type": "code",
   "execution_count": 80,
   "metadata": {
    "colab": {
     "base_uri": "https://localhost:8080/"
    },
    "id": "cGXPsKXU4mtQ",
    "outputId": "59e0fc7c-bdcc-4004-90c4-f7373de625ec",
    "pycharm": {
     "is_executing": true
    }
   },
   "outputs": [
    {
     "name": "stdout",
     "output_type": "stream",
     "text": [
      "1: \n",
      "2: \n",
      "3: fizz\n",
      "4: \n",
      "5: buzz\n",
      "6: fizz\n",
      "7: \n",
      "8: \n",
      "9: fizz\n",
      "10: buzz\n",
      "11: \n",
      "12: fizz\n",
      "13: \n",
      "14: \n",
      "15: fizzbuzz\n",
      "16: \n",
      "17: \n",
      "18: fizz\n",
      "19: \n",
      "20: buzz\n",
      "21: fizz\n"
     ]
    }
   ],
   "source": [
    "# Test Code\n",
    "\n",
    "fizzbuzz(n=21)"
   ]
  },
  {
   "cell_type": "markdown",
   "metadata": {
    "id": "V2-Bi50dIRdM"
   },
   "source": [
    "**Exercise 2:** Given a string, return true if it is a nesting of zero or more pairs of parenthesis, like \"(())\" or \"((()))\". Suggestion: check the first and last chars, and then recur on what's inside them.\n",
    "\n",
    "    nest_paren(\"(())\") → True\n",
    "\n",
    "    nest_paren(\"((()))\") → True\n",
    "\n",
    "    nest_paren(\"(((x))\") → False"
   ]
  },
  {
   "cell_type": "code",
   "execution_count": 81,
   "metadata": {
    "id": "vfmAhVLaMKrs"
   },
   "outputs": [],
   "source": [
    "def nest_paren(s: str) -> bool:\n",
    "    cache = []\n",
    "    pair = dict(zip(\")]}>\", \"([{<\"))\n",
    "    for char in s:\n",
    "        if char in pair.values(): cache.append(char)\n",
    "        if char in pair.keys():\n",
    "            if len(cache) == 0 or cache[-1] != pair.get(char): return False\n",
    "            else: cache.pop()\n",
    "    return len(cache) == 0"
   ]
  },
  {
   "cell_type": "code",
   "execution_count": 82,
   "metadata": {
    "colab": {
     "base_uri": "https://localhost:8080/"
    },
    "id": "SAA9lzkR4usl",
    "outputId": "e0d237c4-4f89-4df6-d9b4-e9bc289820c4"
   },
   "outputs": [
    {
     "name": "stdout",
     "output_type": "stream",
     "text": [
      "True\n",
      "False\n"
     ]
    }
   ],
   "source": [
    "# Test Cases\n",
    "print(nest_paren(s=\"(())\"))  # This should return True\n",
    "\n",
    "print(nest_paren(s=\"((())\"))  # This should return False"
   ]
  },
  {
   "cell_type": "markdown",
   "metadata": {
    "id": "zl4hHBVyNNcg"
   },
   "source": [
    "## **How to Submit This Exercise**\n",
    "\n",
    "1. File > Download .ipynb\n",
    "2. Go to Blackboard, open this class, find the exercise submission page, and upload the .ipynb file you just downloaded"
   ]
  }
 ],
 "metadata": {
  "accelerator": "GPU",
  "colab": {
   "provenance": [],
   "toc_visible": true
  },
  "gpuClass": "standard",
  "kernelspec": {
   "display_name": "Python 3",
   "language": "python",
   "name": "python3"
  },
  "language_info": {
   "codemirror_mode": {
    "name": "ipython",
    "version": 3
   },
   "file_extension": ".py",
   "mimetype": "text/x-python",
   "name": "python",
   "nbconvert_exporter": "python",
   "pygments_lexer": "ipython3",
   "version": "3.11.1"
  },
  "vscode": {
   "interpreter": {
    "hash": "aee8b7b246df8f9039afb4144a1f6fd8d2ca17a180786b69acc140d282b71a49"
   }
  }
 },
 "nbformat": 4,
 "nbformat_minor": 0
}
