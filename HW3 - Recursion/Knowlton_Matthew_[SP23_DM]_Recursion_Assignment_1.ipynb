{
  "nbformat": 4,
  "nbformat_minor": 0,
  "metadata": {
    "colab": {
      "provenance": []
    },
    "kernelspec": {
      "name": "python3",
      "display_name": "Python 3"
    },
    "language_info": {
      "name": "python"
    }
  },
  "cells": [
    {
      "cell_type": "markdown",
      "metadata": {
        "id": "Xdiei2OBjaRO"
      },
      "source": [
        "# [SP23 - DM] Recursion Assignment 1\n"
      ]
    },
    {
      "cell_type": "markdown",
      "metadata": {
        "id": "H98x_Ijajgbt"
      },
      "source": [
        "## **Before you start**\n",
        "\n",
        "1. Make a copy of this Colab by clicking on File > Save a Copy in Drive\n",
        "2. Input your student id, first name, and last name\n"
      ]
    },
    {
      "cell_type": "code",
      "metadata": {
        "id": "JiVkHvJ5jF4T"
      },
      "source": [
        "#@title  { run: \"auto\", display-mode: \"form\" }\n",
        "student_id = \"80745066\" #@param {type:\"string\"}\n",
        "first_name = \"Matthew\" #@param {type:\"string\"}\n",
        "last_name = \"Knowlton\" #@param {type:\"string\"}"
      ],
      "execution_count": null,
      "outputs": []
    },
    {
      "cell_type": "markdown",
      "metadata": {
        "id": "LQDs0ERclCZm"
      },
      "source": [
        "## Instructions\n",
        "\n",
        "Spend at most 30 minutes on each of the problems below. If you feel stuck after working on a problem for 30 minutes, stop. Regradless of whether you stopped or wrote a solution, ask a classmate, TA, or professor to share their solution(s) with you (you may also search online). You should have two (or more) solutions for each problem, and at least one of them should NOT be yours (so you can learn from it). \n",
        "\n",
        "## Deliberate Practice\n",
        "\n",
        "Practicing is necessary to learn and develop skills (like learning how to ride a bike or juggle). Problem-solving skills are no different. In this process, it is normal and expected to make mistakes and feel a little challenged - these are good things! \n",
        "\n",
        "To get the most out of this assignment (and get a good grade), you must deliberately try to solve each problem before looking at someone else's solution. When problem-solving, try to consciously observe your decision-making processes, the actions you engage in, your responses to confusion, the tools you use as support (i.e. paper and pencil), your strategies to remove uncertainty, the events that cause a change in your confidence (positive or negative), your reactions to the unexpected, situations where you identify help is needed, the steps you take to identify and articulate what you need help with, etc. \n",
        "\n",
        "## Problem Tasks\n",
        "\n",
        "You should have at least two solutions per problem - it's okay if you don't fully understand them. For each problem, select the solution you suspect will provide more learning opportunities, and do the following:\n",
        "\n",
        "1.  Trace the code using a non-trivial instance of the problem (include a picture / screenshot - needs to done *by hand*)    \n",
        "2. State the time compleixity of the solution and explain your reasoning. \n",
        "\n",
        "After completing tasks 1 and 2 for all problems, answer the questions at the bottom of the notebook.\n",
        "\n",
        "\n"
      ]
    },
    {
      "cell_type": "markdown",
      "source": [
        "### [25 points] Problem 1\n",
        "\n",
        "Given a list of integers *nums*, compute the product of the elements where the index is a multiple of 2 (consider 0th element to be a multiple of 2).\n",
        "\n",
        "Complete the implementation of the function and provide the trace (i.e., recursion tree) of the example shown below.\n",
        "\n",
        "\n",
        "    Example: nums=[2,5,1,3,4,7,3] -> 24"
      ],
      "metadata": {
        "id": "QSRd31teK5VF"
      }
    },
    {
      "cell_type": "code",
      "source": [
        "def prod_two(nums):\n",
        "  return (nums[0] if len(nums) % 2 else 1) * prod_two(nums[1:]) if nums else 1"
      ],
      "metadata": {
        "id": "eBpvKvCiSbSZ"
      },
      "execution_count": 75,
      "outputs": []
    },
    {
      "cell_type": "code",
      "source": [
        "# Sample test case(s)\n",
        "assert prod_two([2,5,1,3,4,7,3]) == 24\n",
        "assert prod_two([2,5,1,3,4]) ==  8\n",
        "assert prod_two([2,5,1]) ==  2\n",
        "assert prod_two([2]) ==  2\n",
        "assert prod_two([]) ==  1\n",
        "\n",
        "# Add more test cases here if you think the given one(s) are not sufficient to\n",
        "# test for correctness and robustness. Explain why you added each test case (use\n",
        "# comments) and do not add unnecessary ones.\n"
      ],
      "metadata": {
        "id": "wdcFafoBTZEI"
      },
      "execution_count": 76,
      "outputs": []
    },
    {
      "cell_type": "markdown",
      "source": [
        "Insert Recursion Tree Trace Here:\n",
        "\n",
        "-------------\n",
        "![prod_two](https://i.imgur.com/wraavYe.jpg)"
      ],
      "metadata": {
        "id": "qXJ-iaCEM3DA"
      }
    },
    {
      "cell_type": "markdown",
      "metadata": {
        "id": "XCnqe-tIt1rk"
      },
      "source": [
        "### [25 points] Problem 2\n",
        "\n",
        "Given an integer list *nums* and an integer *k* (where *k* >= 1), write a recursive function that counts how many numbers in the list are divisible by *k*.\n",
        "\n",
        "Complete the implementation of the function and provide the trace (i.e., recursion tree) of the example shown below.\n",
        "\n",
        "    \n",
        "    Example: nums=[1,2,3,4,5,6,7,8,9,10], k=2 -> 5\n"
      ]
    },
    {
      "cell_type": "code",
      "metadata": {
        "id": "yGV-EK-yvS5z"
      },
      "source": [
        "def count_divisible(nums, k):\n",
        "  return (0 if nums[0] % k else 1) + count_divisible(nums[1:], k) if nums else 0"
      ],
      "execution_count": 70,
      "outputs": []
    },
    {
      "cell_type": "code",
      "metadata": {
        "id": "_Csy46ozvX0b"
      },
      "source": [
        "# Sample test case(s)\n",
        "assert count_divisible([1,2,3,4,5,6,7,8,9,10], 2) == 5 \n",
        "assert count_divisible([1,2,3,4,5,6,7,8], 2) == 4\n",
        "assert count_divisible([1,2,3,4,5,6], 2) == 3\n",
        "assert count_divisible([1,2,3,4], 2) == 2\n",
        "assert count_divisible([1,2], 2) == 1\n",
        "assert count_divisible([1], 2) == 0\n",
        "assert count_divisible([], 2) == 0\n",
        "assert count_divisible([1,2,3,4,5,6,7,8,9,10], 3) == 3 \n",
        "\n",
        "# Add more test cases here if you think the given one(s) are not sufficient to\n",
        "# test for correctness and robustness. Explain why you added each test case (use\n",
        "# comments) and do not add unnecessary ones.\n"
      ],
      "execution_count": 74,
      "outputs": []
    },
    {
      "cell_type": "markdown",
      "source": [
        "Insert Recursion Tree Trace Here:\n",
        "\n",
        "-------------\n",
        "![count_divisible](https://i.imgur.com/AwS5uEr.jpg)"
      ],
      "metadata": {
        "id": "xbUNWC3_OO9Y"
      }
    },
    {
      "cell_type": "markdown",
      "source": [
        "State whether the solution above is yours or someone else's (include their name or source link) and complete tasks 1 and 2: My solution\n",
        "\n",
        "2. O(n) since each call reduces the size of the list by one the number of recursive calls will be n.\n"
      ],
      "metadata": {
        "id": "w8d7ZAyPlsm4"
      }
    },
    {
      "cell_type": "markdown",
      "metadata": {
        "id": "uZLSB_eOjjbb"
      },
      "source": [
        "### [25 points] Problem 3\n",
        "\n",
        "Provide the trace (i.e., recursion tree) of the example shown below, where n=6.\n",
        "    \n",
        "    def fun1(n):\n",
        "        if(n == 1):\n",
        "            return 0\n",
        "        else:\n",
        "            return 1 + fun1(n//2)\n",
        "            \n"
      ]
    },
    {
      "cell_type": "markdown",
      "source": [
        "Insert Recursion Tree Trace Here:\n",
        "\n",
        "-------------\n",
        "![Fun1 Function](https://i.imgur.com/R8P8wN6.jpg)"
      ],
      "metadata": {
        "id": "yhSqSXZmP5Dm"
      }
    },
    {
      "cell_type": "markdown",
      "metadata": {
        "id": "mFWZR7grv3Kq"
      },
      "source": [
        "### [25 points] Problem 4\n",
        "\n",
        "Provide the trace (i.e., recursion tree) of the example shown below, where a=6, b=10.\n",
        "\n",
        "    def foo(a, b):\n",
        "        if (b == 0):\n",
        "            return 0\n",
        "        if (b % 2 == 0):\n",
        "            return foo(a + a, b//2)\n",
        "        \n",
        "        return foo(a + a, b//2) + a"
      ]
    },
    {
      "cell_type": "markdown",
      "source": [
        "Insert Recursion Tree Trace Here:\n",
        "\n",
        "-------------\n",
        "\n",
        "![Foo Function](https://i.imgur.com/i7o2bff.jpg)"
      ],
      "metadata": {
        "id": "LeHYJXfkQUK7"
      }
    },
    {
      "cell_type": "markdown",
      "source": [
        "## Homework Reflection Tasks\n",
        "\n"
      ],
      "metadata": {
        "id": "aLilm8ZqXNfK"
      }
    },
    {
      "cell_type": "markdown",
      "source": [
        "### Skill Development\n",
        "\n",
        "Mindfully reflect on your learning experience, and 1) list the skills / aspects where you observed the most improvement, 2) describe in what way(s) were those skills / aspects improved, and 3) explain the process you employed to identify the skills / aspects you listed.\n",
        "\n",
        "**Consider how you abstracted out the problems and broke things down into smaller problems.**\n",
        "\n",
        "I think this homework helped in my ability to break down problems involving lists into smaller chunks and then forming recursive functions to solve problems. I realized that each problem can use list slicing and recursion to iterate through a list instead of using a for loop. I identified this through the description process of problem solving."
      ],
      "metadata": {
        "id": "81kp1kxnXaUL"
      }
    },
    {
      "cell_type": "markdown",
      "source": [
        "### Problem 1 Process\n",
        "\n",
        "Describe in detail how you solved the problem. Provide a general description of your thought process and approach to solving the problem\n",
        "\n"
      ],
      "metadata": {
        "id": "J3lOSPT6IUn4"
      }
    },
    {
      "cell_type": "markdown",
      "source": [
        "So first I wanted to figure out how to break down the problem. I can use the length of the list to determine if the first element's index is divisible by two or not. So I check the length, if it's divisible by two we multiple the element times the recursive call, if it's not divisible by two we multiply one times the recursive call. In the recursive call I remove the element at the index we just checked. Once we run out of elements in the list, that's our base case so we return 1 (because if we returned zero it would result in the entire result being zero)."
      ],
      "metadata": {
        "id": "7Ocf-lh3IUn5"
      }
    },
    {
      "cell_type": "markdown",
      "source": [
        "### Problem 2 Process\n",
        "\n",
        "Describe in detail how you solved the problem. Provide a general description of your thought process and approach to solving the problem\n",
        "\n"
      ],
      "metadata": {
        "id": "9_ndGS2oZked"
      }
    },
    {
      "cell_type": "markdown",
      "source": [
        "To break down this one I used a similar solution to problem 1. I check each element if it's divisible by k. If it is we add one plus the recursive call. If it isn't divisible then we add zero plus the recursive call. In the recursive call we pass on the list without the element we just checked and k as parameters. Once we have checked all of the elements, we have an empty list which is our base case so we simply return 0."
      ],
      "metadata": {
        "id": "J8IR81NNZkee"
      }
    },
    {
      "cell_type": "markdown",
      "source": [
        "### Problem 3 Process\n",
        "\n",
        "Describe in detail how you solved the problem. Provide a general description of your thought process and approach to solving the problem\n",
        "\n"
      ],
      "metadata": {
        "id": "x-fMXrf0Zr6N"
      }
    },
    {
      "cell_type": "markdown",
      "source": [
        "For each call that is not the base case, we add one and the recursive call. During the recursive call we divide n by 2 floored using the floored division operator. Once n equals 1 that is our base case and we just return 0."
      ],
      "metadata": {
        "id": "kHYEnz55Zr6O"
      }
    },
    {
      "cell_type": "markdown",
      "source": [
        "### Problem 4 Process\n",
        "\n",
        "Describe in detail how you solved the problem. Provide a general description of your thought process and approach to solving the problem\n",
        "\n"
      ],
      "metadata": {
        "id": "iexUdSsTZyZE"
      }
    },
    {
      "cell_type": "markdown",
      "source": [
        "For each call that is not the base case, we check if b is divisible by 2. If it is divisible we just call the recursive method. If it isn't divisible then call the recursive method and add the current value of a. Each recursive call adds a to itself as a parameter, and b divided by 2 floored as a parameter. The base case for the function is when b reaches 0, we then return 0."
      ],
      "metadata": {
        "id": "GsMxiaDGZyZF"
      }
    },
    {
      "cell_type": "markdown",
      "source": [
        "## Grading Rubric\n",
        "\n",
        "[Link](https://drive.google.com/file/d/1Q73ZYyH3PY3a3QEMs7JHgDxCbQWwKQX0/view?usp=sharing)\n",
        "\n"
      ],
      "metadata": {
        "id": "nlSu65BLXbjH"
      }
    },
    {
      "cell_type": "markdown",
      "metadata": {
        "id": "Y29wmA7U7lUD"
      },
      "source": [
        "## How to Submit \n",
        "\n",
        "1. File > Download .ipynb\n",
        "2. Go to Blackboard, find the submission page, and upload the .ipynb file you just downloaded."
      ]
    }
  ]
}