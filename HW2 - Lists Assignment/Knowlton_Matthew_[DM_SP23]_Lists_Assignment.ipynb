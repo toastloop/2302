{
  "nbformat": 4,
  "nbformat_minor": 0,
  "metadata": {
    "colab": {
      "provenance": [],
      "toc_visible": true
    },
    "kernelspec": {
      "name": "python3",
      "display_name": "Python 3"
    },
    "language_info": {
      "name": "python"
    }
  },
  "cells": [
    {
      "cell_type": "markdown",
      "metadata": {
        "id": "Xdiei2OBjaRO"
      },
      "source": [
        "# [DM-SP23] Lists Assignment\n"
      ]
    },
    {
      "cell_type": "markdown",
      "metadata": {
        "id": "H98x_Ijajgbt"
      },
      "source": [
        "## **Before you start**\n",
        "\n",
        "1. Make a copy of this Colab by clicking on File > Save a Copy in Drive\n",
        "2. Input your student id, first name, and last name\n"
      ]
    },
    {
      "cell_type": "code",
      "metadata": {
        "id": "JiVkHvJ5jF4T"
      },
      "source": [
        "#@title  { run: \"auto\", display-mode: \"form\" }\n",
        "student_id = \"80745066\" #@param {type:\"string\"}\n",
        "first_name = \"Matthew\" #@param {type:\"string\"}\n",
        "last_name = \"Knowlton\" #@param {type:\"string\"}"
      ],
      "execution_count": null,
      "outputs": []
    },
    {
      "cell_type": "markdown",
      "metadata": {
        "id": "LQDs0ERclCZm"
      },
      "source": [
        "## Instructions\n",
        "\n",
        "Spend at most 30 minutes on each of the problems below. If you feel stuck after working on a problem for 30 minutes, stop. Regradless of whether you stopped or wrote a solution, ask a classmate, TA, or professor to share their solution(s) with you (you may also search online). You should have two (or more) solutions for each problem, and at least one of them should NOT be yours (so you can learn from it). \n",
        "\n",
        "## Deliberate Practice\n",
        "\n",
        "Practicing is necessary to learn and develop skills (like learning how to ride a bike or juggle). Problem-solving skills are no different. In this process, it is normal and expected to make mistakes and feel a little challenged - these are good things! \n",
        "\n",
        "To get the most out of this assignment (and get a good grade), you must deliberately try to solve each problem before looking at someone else's solution. When problem-solving, try to consciously observe your decision-making processes, the actions you engage in, your responses to confusion, the tools you use as support (i.e. paper and pencil), your strategies to remove uncertainty, the events that cause a change in your confidence (positive or negative), your reactions to the unexpected, situations where you identify help is needed, the steps you take to identify and articulate what you need help with, etc. \n",
        "\n",
        "## Problem Tasks\n",
        "\n",
        "You should have at least two solutions per problem - it's okay if you don't fully understand them. For each problem, select the solution you suspect will provide more learning opportunities, and do the following:\n",
        "\n",
        "1.  Trace the code using a non-trivial instance of the problem (include a picture / screenshot - needs to done *by hand*)    \n",
        "2. State the time compleixity of the solution and explain your reasoning. \n",
        "\n",
        "After completing tasks 1 and 2 for all problems, answer the questions at the bottom of the notebook.\n",
        "\n",
        "\n"
      ]
    },
    {
      "cell_type": "markdown",
      "source": [
        "### [25 points] Problem 1\n",
        "\n",
        "Given a list of integers *nums* consisting of 2n elements in the form $[x_1,x_2,...,x_n,y_1,y_2,...,y_n]$, return a list that contains the same values as *nums* but in the form $[x_1,y_1,x_2,y_2,...,x_n,y_n]$.\n",
        "\n",
        "\n",
        "    Example: nums=[2,5,1,3,4,7], n=3 -> [2,3,5,4,1,7] "
      ],
      "metadata": {
        "id": "QSRd31teK5VF"
      }
    },
    {
      "cell_type": "code",
      "source": [
        "def shuffle(nums: list, n: int) -> list:\n",
        "  return [x for pair in zip(nums[:n], nums[n:]) for x in pair]"
      ],
      "metadata": {
        "id": "eBpvKvCiSbSZ"
      },
      "execution_count": 11,
      "outputs": []
    },
    {
      "cell_type": "code",
      "source": [
        "# Sample test case(s)\n",
        "assert shuffle([2,5,1,3,4,7], 3) == [2,3,5,4,1,7] \n",
        "assert shuffle([2,5,3,4], 2) == [2,3,5,4] \n",
        "assert shuffle([2,3], 1) == [2,3] \n",
        "assert shuffle([], 0) == [] \n",
        "\n",
        "# Add more test cases here if you think the given one(s) are not sufficient to\n",
        "# test for correctness and robustness. Explain why you added each test case (use\n",
        "# comments) and do not add unnecessary ones.\n"
      ],
      "metadata": {
        "id": "wdcFafoBTZEI"
      },
      "execution_count": 12,
      "outputs": []
    },
    {
      "cell_type": "markdown",
      "source": [
        "State whether the solution above is yours or someone else's (include their name or source link) and complete tasks 1 and 2: My solution\n",
        "\n",
        "1. Tracing\n",
        "![Shuffle Trace](https://i.imgur.com/nWjuvBZ.jpg)\n",
        "\n",
        "2. O(log n). The outside loop takes O(log n) iterations, as the iterator given by zip is half of the size of the input array. The inside loop takes a constant O(1) time since each tuple contains two elements and is not input dependent."
      ],
      "metadata": {
        "id": "YKFpPFzg2bgK"
      }
    },
    {
      "cell_type": "markdown",
      "metadata": {
        "id": "XCnqe-tIt1rk"
      },
      "source": [
        "### [25 points] Problem 2\n",
        "\n",
        "Given an integer list *nums* and an integer *k* (where *k* >= 1), count how many numbers in the list are divisible by *k*.\n",
        "\n",
        "    \n",
        "    Example: nums=[1,2,3,4,5,6,7,8,9,10], k=2 -> 5\n"
      ]
    },
    {
      "cell_type": "code",
      "metadata": {
        "id": "yGV-EK-yvS5z"
      },
      "source": [
        "def count_divisible(nums: list, k: int) -> int:\n",
        "  return len([x for x in nums if x % k == 0])"
      ],
      "execution_count": 13,
      "outputs": []
    },
    {
      "cell_type": "code",
      "metadata": {
        "id": "_Csy46ozvX0b"
      },
      "source": [
        "# Sample test case(s)\n",
        "assert count_divisible([1,2,3,4,5,6,7,8,9,10], 2) == 5 \n",
        "assert count_divisible([2,4,6,8,10], 2) == 5\n",
        "assert count_divisible([1,3,5,7,9], 2) == 0\n",
        "\n",
        "# Add more test cases here if you think the given one(s) are not sufficient to\n",
        "# test for correctness and robustness. Explain why you added each test case (use\n",
        "# comments) and do not add unnecessary ones.\n"
      ],
      "execution_count": 14,
      "outputs": []
    },
    {
      "cell_type": "markdown",
      "source": [
        "State whether the solution above is yours or someone else's (include their name or source link) and complete tasks 1 and 2: My solution\n",
        "\n",
        "1. Tracing\n",
        "![Count Divisible](https://i.imgur.com/Z7zFuCq.jpg)\n",
        "\n",
        "2. O(n). The loop iterates through each element in the nums list, therefore the loop is input dependent and it's complexity is O(n)\n",
        "\n"
      ],
      "metadata": {
        "id": "w8d7ZAyPlsm4"
      }
    },
    {
      "cell_type": "markdown",
      "metadata": {
        "id": "uZLSB_eOjjbb"
      },
      "source": [
        "### [25 points] Problem 3\n",
        "\n",
        "Given an integer list *nums* and a non-negative integer *k*, circularly shift the array to the left by *k* spaces. Elements at the beginning of the list are to be shifted to the end of the list.    \n",
        "    \n",
        "    Examples: nums=[1,2,3,4,5], k = 1 -> [2,3,4,5,1]\n",
        "              nums=[1,2,3,4,5], k = 3 -> [4,5,1,2,3]\n",
        "            \n"
      ]
    },
    {
      "cell_type": "code",
      "metadata": {
        "id": "63swuepLsHaA"
      },
      "source": [
        "def circular_shift(nums: list, k: int) -> list:\n",
        "  return nums[k:] + nums[:k]"
      ],
      "execution_count": 15,
      "outputs": []
    },
    {
      "cell_type": "code",
      "metadata": {
        "id": "mBxTWX8DsXUT"
      },
      "source": [
        "# Sample test case(s)\n",
        "assert circular_shift([1,2,3,4,5], 3) == [4,5,1,2,3]\n",
        "\n",
        "# Add more test cases here if you think the given one(s) are not sufficient to\n",
        "# test for correctness and robustness. Explain why you added each test case (use\n",
        "# comments) and do not add unnecessary ones.\n",
        "\n"
      ],
      "execution_count": 16,
      "outputs": []
    },
    {
      "cell_type": "markdown",
      "metadata": {
        "id": "D-EUjg3zs3vU"
      },
      "source": [
        "State whether the solution above is yours or someone else's (include their name or source link) and complete tasks 1 and 2: My solution\n",
        "\n",
        "1. Tracing\n",
        "![Circular Shift](https://i.imgur.com/bzdOzZa.jpg)\n",
        "\n",
        "2. O(n). It takes the slice of k elements and copies them into memory as a new list (O(k)), it then appends the remaining m elements to the list (O(m)). O(k) + O(m) is equal to O(n).\n"
      ]
    },
    {
      "cell_type": "markdown",
      "metadata": {
        "id": "mFWZR7grv3Kq"
      },
      "source": [
        "### [25 points] Problem 4\n",
        "\n",
        "Given two lists of integers, return a new list that contains the common elements between them in ascending order. Feel free to assume that neither list contains duplicates. \n",
        "\n",
        "    Examples: nums1=[1,2,3], nums2=[2,5,1] -> [1,2] \n",
        "              nums1=[2,3,1], nums2=[5,0,7] -> []\n",
        "\n",
        "              \n",
        "Optional Extension: Assume either list could contain duplicates (feel free to decide how the output should look like when duplicates are found)."
      ]
    },
    {
      "cell_type": "code",
      "metadata": {
        "id": "Z_MCzwaWv1cT"
      },
      "source": [
        "def list_intersection(nums1: list, nums2: list) -> list:\n",
        "    output: list[int] = [x for x in nums1 if x in nums2]\n",
        "    output.sort()\n",
        "    return output"
      ],
      "execution_count": 17,
      "outputs": []
    },
    {
      "cell_type": "code",
      "metadata": {
        "id": "hyM-8kor5o08"
      },
      "source": [
        "# Sample test case(s)\n",
        "assert list_intersection([1,2,3], [2,5,1]) == [1,2]\n",
        "assert list_intersection([1,2,3], [4,5,6]) == []\n",
        "assert list_intersection([1,2,3], [1,2,3]) == [1,2,3]\n",
        "assert list_intersection([3,2,1], [2,5,1]) == [1,2]\n",
        "# Add more test cases here if you think the given one(s) are not sufficient to\n",
        "# test for correctness and robustness. Explain why you added each test case (use\n",
        "# comments) and do not add unnecessary ones."
      ],
      "execution_count": 18,
      "outputs": []
    },
    {
      "cell_type": "markdown",
      "metadata": {
        "id": "0ZNDxqkT507q"
      },
      "source": [
        "State whether the solution above is yours or someone else's (include their name or source link) and complete tasks 1 and 2: My solution\n",
        "\n",
        "1. Tracing\n",
        "![List Intersection](https://i.imgur.com/qtHFPWC.jpg)\n",
        "\n",
        "2. O(n log n). The built in sorting algorithm in python has a complexity of O(n log n).\n"
      ]
    },
    {
      "cell_type": "markdown",
      "source": [
        "## Homework Reflection Tasks\n",
        "\n"
      ],
      "metadata": {
        "id": "aLilm8ZqXNfK"
      }
    },
    {
      "cell_type": "markdown",
      "source": [
        "### Skill Development\n",
        "\n",
        "Mindfully reflect on your learning experience, and 1) list the skills / aspects where you observed the most improvement, 2) describe in what way(s) were those skills / aspects improved, and 3) explain the process you employed to identify the skills / aspects you listed.\n",
        "\n",
        "**Consider how you abstracted out the problems and broke things down into smaller problems.**\n",
        "\n",
        "I learned more applications for the zip function, using slicing to rearrange parts of a list, and how to use the sort function for lists. Using the zip function I created tuples using multiple lists and then iterated over the created tuples. This is useful for iterating over multiple lists using one for loop, thus reducing the time it takes to process multiple lists. I knew you could slice lists, but I hadn't thought about using slicing to simple reorder parts of a list. It makes it easy to move a part of a list in the order without going element by element. Finally, I learned the built in python function for sorting lists, which uses a really efficient combination of sorting algorithms depending on the size of the input. While the worst case scenario is still O(n log n) it's more consistantly faster than that in it's average case. I identified these when going through my reflections for each function and identifying techniques I had not used prior to the homework.\n",
        "\n",
        "\n",
        "\n"
      ],
      "metadata": {
        "id": "81kp1kxnXaUL"
      }
    },
    {
      "cell_type": "markdown",
      "source": [
        "### Problem 1 Process\n",
        "\n",
        "Describe in detail how you solved the problem. Provide a general description of your thought process and approach to solving the problem\n",
        "\n"
      ],
      "metadata": {
        "id": "J3lOSPT6IUn4"
      }
    },
    {
      "cell_type": "markdown",
      "source": [
        "Initially I had thought to use nested loops where the outer loop used zip to create a tuple containing an element from each half of the list. The second loop would iterate through the tuple and append that element to a new list. Essentially zipping and then unzipping the list. I found out through Google that you can use nested for loops inside of a list comprehension and choose to practice that technique in this problem. So I took my two for loops and wrapped them into a list comprehension."
      ],
      "metadata": {
        "id": "7Ocf-lh3IUn5"
      }
    },
    {
      "cell_type": "markdown",
      "source": [
        "### Problem 2 Process\n",
        "\n",
        "Describe in detail how you solved the problem. Provide a general description of your thought process and approach to solving the problem\n",
        "\n"
      ],
      "metadata": {
        "id": "9_ndGS2oZked"
      }
    },
    {
      "cell_type": "markdown",
      "source": [
        "Like problem 4, I realized I could use list comprehension since we are getting the length of a sublist. So I figured out we needed to iterate over each element in the array then I determined we need to check if that element is divisible by the given integer k. I then constructed a list comprehension and wrapped that in the len function which would return the length of the list we created in the comprehension."
      ],
      "metadata": {
        "id": "J8IR81NNZkee"
      }
    },
    {
      "cell_type": "markdown",
      "source": [
        "### Problem 3 Process\n",
        "\n",
        "Describe in detail how you solved the problem. Provide a general description of your thought process and approach to solving the problem\n",
        "\n"
      ],
      "metadata": {
        "id": "x-fMXrf0Zr6N"
      }
    },
    {
      "cell_type": "markdown",
      "source": [
        "I realized the problem could be broken down into two operations. The first is the take the last n-k elements and shift them to the front. The second is to append the remaining k elements to the end essentially rotating the list by k elements. Since python allows you to slice an array using the number of elements, I can slice each part of the list using k and then concatenating the slices together."
      ],
      "metadata": {
        "id": "kHYEnz55Zr6O"
      }
    },
    {
      "cell_type": "markdown",
      "source": [
        "### Problem 4 Process\n",
        "\n",
        "Describe in detail how you solved the problem. Provide a general description of your thought process and approach to solving the problem\n",
        "\n"
      ],
      "metadata": {
        "id": "iexUdSsTZyZE"
      }
    },
    {
      "cell_type": "markdown",
      "source": [
        "After looking at the problem I realized that the resulting list is a sublist of the given list so it would be a good candidate for list comprehension. I then constructed the conditions for the for loop, I knew I needed to loop through each element in the nums1 list. Finally I constructed the filter, I used the built in python search to search for the term pulled from nums1 list in the nums2 list. Putting it together into a list comprehension, it iterates through each element in the nums1 list and checks if that element is present in num2. If the element is present it then adds the element to a new list. Finally it takes that list and sorts it using the built in python sorting function. It then returns the sorted list."
      ],
      "metadata": {
        "id": "GsMxiaDGZyZF"
      }
    },
    {
      "cell_type": "markdown",
      "source": [
        "## Grading Rubric\n",
        "\n",
        "[Link](https://docs.google.com/document/d/1wVBl583MtvH3rbESTPTcbac55qOhWE6sChAg4fbB10Q/edit?usp=sharing)\n",
        "\n"
      ],
      "metadata": {
        "id": "nlSu65BLXbjH"
      }
    },
    {
      "cell_type": "markdown",
      "metadata": {
        "id": "Y29wmA7U7lUD"
      },
      "source": [
        "## How to Submit \n",
        "\n",
        "1. File > Download .ipynb\n",
        "2. Go to Blackboard, find the submission page, and upload the .ipynb file you just downloaded."
      ]
    }
  ]
}